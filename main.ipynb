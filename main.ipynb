{
 "cells": [
  {
   "cell_type": "code",
   "execution_count": 15,
   "metadata": {},
   "outputs": [
    {
     "name": "stdout",
     "output_type": "stream",
     "text": [
      "Requirement already satisfied: pandas in c:\\users\\paidivibhavanrao\\appdata\\local\\programs\\python\\python312\\lib\\site-packages (2.2.3)\n",
      "Requirement already satisfied: numpy>=1.26.0 in c:\\users\\paidivibhavanrao\\appdata\\local\\programs\\python\\python312\\lib\\site-packages (from pandas) (2.2.4)\n",
      "Requirement already satisfied: python-dateutil>=2.8.2 in c:\\users\\paidivibhavanrao\\appdata\\local\\programs\\python\\python312\\lib\\site-packages (from pandas) (2.9.0.post0)\n",
      "Requirement already satisfied: pytz>=2020.1 in c:\\users\\paidivibhavanrao\\appdata\\local\\programs\\python\\python312\\lib\\site-packages (from pandas) (2025.1)\n",
      "Requirement already satisfied: tzdata>=2022.7 in c:\\users\\paidivibhavanrao\\appdata\\local\\programs\\python\\python312\\lib\\site-packages (from pandas) (2025.1)\n",
      "Requirement already satisfied: six>=1.5 in c:\\users\\paidivibhavanrao\\appdata\\local\\programs\\python\\python312\\lib\\site-packages (from python-dateutil>=2.8.2->pandas) (1.17.0)\n",
      "Note: you may need to restart the kernel to use updated packages.\n",
      "Requirement already satisfied: matplotlib in c:\\users\\paidivibhavanrao\\appdata\\local\\programs\\python\\python312\\lib\\site-packages (3.10.1)\n",
      "Requirement already satisfied: contourpy>=1.0.1 in c:\\users\\paidivibhavanrao\\appdata\\local\\programs\\python\\python312\\lib\\site-packages (from matplotlib) (1.3.1)\n",
      "Requirement already satisfied: cycler>=0.10 in c:\\users\\paidivibhavanrao\\appdata\\local\\programs\\python\\python312\\lib\\site-packages (from matplotlib) (0.12.1)\n",
      "Requirement already satisfied: fonttools>=4.22.0 in c:\\users\\paidivibhavanrao\\appdata\\local\\programs\\python\\python312\\lib\\site-packages (from matplotlib) (4.56.0)\n",
      "Requirement already satisfied: kiwisolver>=1.3.1 in c:\\users\\paidivibhavanrao\\appdata\\local\\programs\\python\\python312\\lib\\site-packages (from matplotlib) (1.4.8)\n",
      "Requirement already satisfied: numpy>=1.23 in c:\\users\\paidivibhavanrao\\appdata\\local\\programs\\python\\python312\\lib\\site-packages (from matplotlib) (2.2.4)\n",
      "Requirement already satisfied: packaging>=20.0 in c:\\users\\paidivibhavanrao\\appdata\\local\\programs\\python\\python312\\lib\\site-packages (from matplotlib) (24.2)\n",
      "Requirement already satisfied: pillow>=8 in c:\\users\\paidivibhavanrao\\appdata\\local\\programs\\python\\python312\\lib\\site-packages (from matplotlib) (11.1.0)\n",
      "Requirement already satisfied: pyparsing>=2.3.1 in c:\\users\\paidivibhavanrao\\appdata\\local\\programs\\python\\python312\\lib\\site-packages (from matplotlib) (3.2.1)\n",
      "Requirement already satisfied: python-dateutil>=2.7 in c:\\users\\paidivibhavanrao\\appdata\\local\\programs\\python\\python312\\lib\\site-packages (from matplotlib) (2.9.0.post0)\n",
      "Requirement already satisfied: six>=1.5 in c:\\users\\paidivibhavanrao\\appdata\\local\\programs\\python\\python312\\lib\\site-packages (from python-dateutil>=2.7->matplotlib) (1.17.0)\n",
      "Note: you may need to restart the kernel to use updated packages.\n",
      "Requirement already satisfied: seaborn in c:\\users\\paidivibhavanrao\\appdata\\local\\programs\\python\\python312\\lib\\site-packages (0.13.2)\n",
      "Requirement already satisfied: numpy!=1.24.0,>=1.20 in c:\\users\\paidivibhavanrao\\appdata\\local\\programs\\python\\python312\\lib\\site-packages (from seaborn) (2.2.4)\n",
      "Requirement already satisfied: pandas>=1.2 in c:\\users\\paidivibhavanrao\\appdata\\local\\programs\\python\\python312\\lib\\site-packages (from seaborn) (2.2.3)\n",
      "Requirement already satisfied: matplotlib!=3.6.1,>=3.4 in c:\\users\\paidivibhavanrao\\appdata\\local\\programs\\python\\python312\\lib\\site-packages (from seaborn) (3.10.1)\n",
      "Requirement already satisfied: contourpy>=1.0.1 in c:\\users\\paidivibhavanrao\\appdata\\local\\programs\\python\\python312\\lib\\site-packages (from matplotlib!=3.6.1,>=3.4->seaborn) (1.3.1)\n",
      "Requirement already satisfied: cycler>=0.10 in c:\\users\\paidivibhavanrao\\appdata\\local\\programs\\python\\python312\\lib\\site-packages (from matplotlib!=3.6.1,>=3.4->seaborn) (0.12.1)\n",
      "Requirement already satisfied: fonttools>=4.22.0 in c:\\users\\paidivibhavanrao\\appdata\\local\\programs\\python\\python312\\lib\\site-packages (from matplotlib!=3.6.1,>=3.4->seaborn) (4.56.0)\n",
      "Requirement already satisfied: kiwisolver>=1.3.1 in c:\\users\\paidivibhavanrao\\appdata\\local\\programs\\python\\python312\\lib\\site-packages (from matplotlib!=3.6.1,>=3.4->seaborn) (1.4.8)\n",
      "Requirement already satisfied: packaging>=20.0 in c:\\users\\paidivibhavanrao\\appdata\\local\\programs\\python\\python312\\lib\\site-packages (from matplotlib!=3.6.1,>=3.4->seaborn) (24.2)\n",
      "Requirement already satisfied: pillow>=8 in c:\\users\\paidivibhavanrao\\appdata\\local\\programs\\python\\python312\\lib\\site-packages (from matplotlib!=3.6.1,>=3.4->seaborn) (11.1.0)\n",
      "Requirement already satisfied: pyparsing>=2.3.1 in c:\\users\\paidivibhavanrao\\appdata\\local\\programs\\python\\python312\\lib\\site-packages (from matplotlib!=3.6.1,>=3.4->seaborn) (3.2.1)\n",
      "Requirement already satisfied: python-dateutil>=2.7 in c:\\users\\paidivibhavanrao\\appdata\\local\\programs\\python\\python312\\lib\\site-packages (from matplotlib!=3.6.1,>=3.4->seaborn) (2.9.0.post0)\n",
      "Requirement already satisfied: pytz>=2020.1 in c:\\users\\paidivibhavanrao\\appdata\\local\\programs\\python\\python312\\lib\\site-packages (from pandas>=1.2->seaborn) (2025.1)\n",
      "Requirement already satisfied: tzdata>=2022.7 in c:\\users\\paidivibhavanrao\\appdata\\local\\programs\\python\\python312\\lib\\site-packages (from pandas>=1.2->seaborn) (2025.1)\n",
      "Requirement already satisfied: six>=1.5 in c:\\users\\paidivibhavanrao\\appdata\\local\\programs\\python\\python312\\lib\\site-packages (from python-dateutil>=2.7->matplotlib!=3.6.1,>=3.4->seaborn) (1.17.0)\n",
      "Note: you may need to restart the kernel to use updated packages.\n",
      "Requirement already satisfied: numpy in c:\\users\\paidivibhavanrao\\appdata\\local\\programs\\python\\python312\\lib\\site-packages (2.2.4)\n",
      "Note: you may need to restart the kernel to use updated packages.\n"
     ]
    }
   ],
   "source": [
    "%pip install pandas\n",
    "%pip install matplotlib\n",
    "%pip install seaborn\n",
    "%pip install numpy\n"
   ]
  },
  {
   "cell_type": "code",
   "execution_count": 16,
   "metadata": {},
   "outputs": [],
   "source": [
    "import pandas as pd\n",
    "import matplotlib.pyplot as plt\n",
    "import seaborn as sns\n",
    "import numpy as np"
   ]
  },
  {
   "cell_type": "code",
   "execution_count": 20,
   "metadata": {},
   "outputs": [
    {
     "name": "stdout",
     "output_type": "stream",
     "text": [
      "Merged dataset saved as final_merged_data.csv\n"
     ]
    }
   ],
   "source": [
    "expansion_df = pd.read_csv(\"expansion_outcome.csv\")\n",
    "product_df = pd.read_csv(\"product.csv\")\n",
    "feedback_df = pd.read_csv(\"customer_feedback.csv\")\n",
    "customer_df = pd.read_csv(\"customer.csv\")\n",
    "utilization_df = pd.read_csv(\"utilization.csv\")\n",
    "\n",
    "expansion_df[\"score_date\"] = pd.to_datetime(expansion_df[\"score_date\"], format='mixed', dayfirst=True)\n",
    "product_df[\"score_date\"] = pd.to_datetime(product_df[\"score_date\"], format='mixed', dayfirst=True)\n",
    "feedback_df[\"score_date\"] = pd.to_datetime(feedback_df[\"score_date\"], format='mixed', dayfirst=True)\n",
    "customer_df[\"score_date\"] = pd.to_datetime(customer_df[\"score_date\"], format='mixed', dayfirst=True)\n",
    "utilization_df[\"score_date\"] = pd.to_datetime(customer_df[\"score_date\"], format='mixed', dayfirst=True)\n",
    "\n",
    "merged_df = expansion_df.merge(product_df, on=[\"id\", \"score_date\"], how=\"inner\")\n",
    "merged_df = merged_df.merge(feedback_df, on=[\"id\", \"score_date\"], how=\"left\")\n",
    "merged_df = merged_df.merge(customer_df, on=[\"id\", \"score_date\"], how=\"left\")\n",
    "merged_df = merged_df.merge(utilization_df, on=[\"id\", \"score_date\"], how=\"left\")\n",
    "selected_columns = [\n",
    "    \"id\", \"score_date\", \"current_arr\", \"team_plus\", \"pro_plus\", \"ent_plus\", \"csat_score\", \n",
    "    \"num_low_sev_outages\", \"num_high_sev_outages\", \"num_tickets_deflected\",\"customer_age_quarters\",\n",
    "    \"product_counts\", \"crm_employee_range\",\"region_emea\", \"region_apac\", \"region_amer\",\"region_latam\",\n",
    "    \"segment_smb\",\"segment_non_smb\",\"segment_commercial\",\"segment_enterprise\",\"segment_midmarket\",\"future_arr\",\"current_arr\",\n",
    "    \"max_seats\",\"agent_utilization\",\"seat_utilization\"\n",
    "\n",
    "]\n",
    "merged_df = merged_df[selected_columns]\n",
    "merged_df.to_csv(\"final_merged_data.csv\", index=False)\n",
    "print(\"Merged dataset saved as final_merged_data.csv\")\n"
   ]
  }
 ],
 "metadata": {
  "kernelspec": {
   "display_name": "Python 3",
   "language": "python",
   "name": "python3"
  },
  "language_info": {
   "codemirror_mode": {
    "name": "ipython",
    "version": 3
   },
   "file_extension": ".py",
   "mimetype": "text/x-python",
   "name": "python",
   "nbconvert_exporter": "python",
   "pygments_lexer": "ipython3",
   "version": "3.12.9"
  }
 },
 "nbformat": 4,
 "nbformat_minor": 2
}
