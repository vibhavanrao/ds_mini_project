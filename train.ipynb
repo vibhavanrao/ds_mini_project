{
 "cells": [
  {
   "cell_type": "code",
   "execution_count": 14,
   "metadata": {},
   "outputs": [],
   "source": [
    "import pandas as pd\n",
    "import numpy as np\n",
    "\n",
    "from sklearn.linear_model import LogisticRegression\n",
    "from sklearn.model_selection import train_test_split\n",
    "from sklearn.metrics import classification_report, accuracy_score\n",
    "\n",
    "from sklearn.model_selection import GridSearchCV, RandomizedSearchCV, StratifiedKFold"
   ]
  },
  {
   "cell_type": "code",
   "execution_count": 37,
   "metadata": {},
   "outputs": [
    {
     "data": {
      "text/html": [
       "<div>\n",
       "<style scoped>\n",
       "    .dataframe tbody tr th:only-of-type {\n",
       "        vertical-align: middle;\n",
       "    }\n",
       "\n",
       "    .dataframe tbody tr th {\n",
       "        vertical-align: top;\n",
       "    }\n",
       "\n",
       "    .dataframe thead th {\n",
       "        text-align: right;\n",
       "    }\n",
       "</style>\n",
       "<table border=\"1\" class=\"dataframe\">\n",
       "  <thead>\n",
       "    <tr style=\"text-align: right;\">\n",
       "      <th></th>\n",
       "      <th>id</th>\n",
       "      <th>score_date</th>\n",
       "      <th>current_arr</th>\n",
       "      <th>team_plus</th>\n",
       "      <th>pro_plus</th>\n",
       "      <th>ent_plus</th>\n",
       "      <th>csat_score</th>\n",
       "      <th>num_low_sev_outages</th>\n",
       "      <th>num_high_sev_outages</th>\n",
       "      <th>num_tickets_deflected</th>\n",
       "      <th>...</th>\n",
       "      <th>segment_non_smb</th>\n",
       "      <th>segment_commercial</th>\n",
       "      <th>segment_enterprise</th>\n",
       "      <th>segment_midmarket</th>\n",
       "      <th>future_arr</th>\n",
       "      <th>current_arr.1</th>\n",
       "      <th>max_seats</th>\n",
       "      <th>agent_utilization</th>\n",
       "      <th>seat_utilization</th>\n",
       "      <th>churn</th>\n",
       "    </tr>\n",
       "  </thead>\n",
       "  <tbody>\n",
       "    <tr>\n",
       "      <th>0</th>\n",
       "      <td>JMAN_2429072</td>\n",
       "      <td>2023-02-10</td>\n",
       "      <td>2976.00</td>\n",
       "      <td>1</td>\n",
       "      <td>1</td>\n",
       "      <td>0</td>\n",
       "      <td>100</td>\n",
       "      <td>0</td>\n",
       "      <td>0</td>\n",
       "      <td>72</td>\n",
       "      <td>...</td>\n",
       "      <td>0</td>\n",
       "      <td>0</td>\n",
       "      <td>0</td>\n",
       "      <td>0</td>\n",
       "      <td>2976.00</td>\n",
       "      <td>2976.00</td>\n",
       "      <td>2.0</td>\n",
       "      <td>0.500000</td>\n",
       "      <td>1.0</td>\n",
       "      <td>0</td>\n",
       "    </tr>\n",
       "    <tr>\n",
       "      <th>1</th>\n",
       "      <td>JMAN_9043466</td>\n",
       "      <td>2023-01-13</td>\n",
       "      <td>20724.72</td>\n",
       "      <td>1</td>\n",
       "      <td>1</td>\n",
       "      <td>1</td>\n",
       "      <td>100</td>\n",
       "      <td>0</td>\n",
       "      <td>0</td>\n",
       "      <td>0</td>\n",
       "      <td>...</td>\n",
       "      <td>1</td>\n",
       "      <td>1</td>\n",
       "      <td>0</td>\n",
       "      <td>0</td>\n",
       "      <td>21474.84</td>\n",
       "      <td>20724.72</td>\n",
       "      <td>9.0</td>\n",
       "      <td>0.111111</td>\n",
       "      <td>1.0</td>\n",
       "      <td>0</td>\n",
       "    </tr>\n",
       "    <tr>\n",
       "      <th>2</th>\n",
       "      <td>JMAN_2452556</td>\n",
       "      <td>2023-02-24</td>\n",
       "      <td>605.76</td>\n",
       "      <td>1</td>\n",
       "      <td>1</td>\n",
       "      <td>1</td>\n",
       "      <td>0</td>\n",
       "      <td>15</td>\n",
       "      <td>1</td>\n",
       "      <td>0</td>\n",
       "      <td>...</td>\n",
       "      <td>1</td>\n",
       "      <td>0</td>\n",
       "      <td>0</td>\n",
       "      <td>0</td>\n",
       "      <td>817.80</td>\n",
       "      <td>605.76</td>\n",
       "      <td>1.0</td>\n",
       "      <td>0.000000</td>\n",
       "      <td>1.0</td>\n",
       "      <td>0</td>\n",
       "    </tr>\n",
       "    <tr>\n",
       "      <th>3</th>\n",
       "      <td>JMAN_2455113</td>\n",
       "      <td>2023-03-03</td>\n",
       "      <td>300.00</td>\n",
       "      <td>1</td>\n",
       "      <td>0</td>\n",
       "      <td>0</td>\n",
       "      <td>0</td>\n",
       "      <td>7</td>\n",
       "      <td>0</td>\n",
       "      <td>0</td>\n",
       "      <td>...</td>\n",
       "      <td>1</td>\n",
       "      <td>0</td>\n",
       "      <td>0</td>\n",
       "      <td>0</td>\n",
       "      <td>300.00</td>\n",
       "      <td>300.00</td>\n",
       "      <td>1.0</td>\n",
       "      <td>0.000000</td>\n",
       "      <td>1.0</td>\n",
       "      <td>0</td>\n",
       "    </tr>\n",
       "    <tr>\n",
       "      <th>4</th>\n",
       "      <td>JMAN_18127937</td>\n",
       "      <td>2023-02-10</td>\n",
       "      <td>2100.00</td>\n",
       "      <td>1</td>\n",
       "      <td>1</td>\n",
       "      <td>0</td>\n",
       "      <td>0</td>\n",
       "      <td>0</td>\n",
       "      <td>0</td>\n",
       "      <td>0</td>\n",
       "      <td>...</td>\n",
       "      <td>1</td>\n",
       "      <td>0</td>\n",
       "      <td>0</td>\n",
       "      <td>0</td>\n",
       "      <td>420.00</td>\n",
       "      <td>2100.00</td>\n",
       "      <td>5.0</td>\n",
       "      <td>0.000000</td>\n",
       "      <td>0.0</td>\n",
       "      <td>1</td>\n",
       "    </tr>\n",
       "    <tr>\n",
       "      <th>...</th>\n",
       "      <td>...</td>\n",
       "      <td>...</td>\n",
       "      <td>...</td>\n",
       "      <td>...</td>\n",
       "      <td>...</td>\n",
       "      <td>...</td>\n",
       "      <td>...</td>\n",
       "      <td>...</td>\n",
       "      <td>...</td>\n",
       "      <td>...</td>\n",
       "      <td>...</td>\n",
       "      <td>...</td>\n",
       "      <td>...</td>\n",
       "      <td>...</td>\n",
       "      <td>...</td>\n",
       "      <td>...</td>\n",
       "      <td>...</td>\n",
       "      <td>...</td>\n",
       "      <td>...</td>\n",
       "      <td>...</td>\n",
       "      <td>...</td>\n",
       "    </tr>\n",
       "    <tr>\n",
       "      <th>13412</th>\n",
       "      <td>JMAN_16222667</td>\n",
       "      <td>2023-01-06</td>\n",
       "      <td>504.00</td>\n",
       "      <td>1</td>\n",
       "      <td>0</td>\n",
       "      <td>0</td>\n",
       "      <td>0</td>\n",
       "      <td>0</td>\n",
       "      <td>0</td>\n",
       "      <td>0</td>\n",
       "      <td>...</td>\n",
       "      <td>1</td>\n",
       "      <td>0</td>\n",
       "      <td>0</td>\n",
       "      <td>0</td>\n",
       "      <td>504.00</td>\n",
       "      <td>504.00</td>\n",
       "      <td>3.0</td>\n",
       "      <td>0.000000</td>\n",
       "      <td>0.0</td>\n",
       "      <td>0</td>\n",
       "    </tr>\n",
       "    <tr>\n",
       "      <th>13413</th>\n",
       "      <td>JMAN_2475820</td>\n",
       "      <td>2023-02-10</td>\n",
       "      <td>221.64</td>\n",
       "      <td>1</td>\n",
       "      <td>0</td>\n",
       "      <td>0</td>\n",
       "      <td>0</td>\n",
       "      <td>10</td>\n",
       "      <td>1</td>\n",
       "      <td>0</td>\n",
       "      <td>...</td>\n",
       "      <td>1</td>\n",
       "      <td>0</td>\n",
       "      <td>0</td>\n",
       "      <td>0</td>\n",
       "      <td>231.48</td>\n",
       "      <td>221.64</td>\n",
       "      <td>1.0</td>\n",
       "      <td>0.000000</td>\n",
       "      <td>1.0</td>\n",
       "      <td>0</td>\n",
       "    </tr>\n",
       "    <tr>\n",
       "      <th>13414</th>\n",
       "      <td>JMAN_9014565</td>\n",
       "      <td>2023-03-17</td>\n",
       "      <td>228.00</td>\n",
       "      <td>1</td>\n",
       "      <td>0</td>\n",
       "      <td>0</td>\n",
       "      <td>0</td>\n",
       "      <td>10</td>\n",
       "      <td>0</td>\n",
       "      <td>0</td>\n",
       "      <td>...</td>\n",
       "      <td>1</td>\n",
       "      <td>0</td>\n",
       "      <td>0</td>\n",
       "      <td>0</td>\n",
       "      <td>228.00</td>\n",
       "      <td>228.00</td>\n",
       "      <td>1.0</td>\n",
       "      <td>0.000000</td>\n",
       "      <td>1.0</td>\n",
       "      <td>0</td>\n",
       "    </tr>\n",
       "    <tr>\n",
       "      <th>13415</th>\n",
       "      <td>JMAN_18362858</td>\n",
       "      <td>2023-03-24</td>\n",
       "      <td>228.00</td>\n",
       "      <td>1</td>\n",
       "      <td>0</td>\n",
       "      <td>0</td>\n",
       "      <td>0</td>\n",
       "      <td>0</td>\n",
       "      <td>0</td>\n",
       "      <td>0</td>\n",
       "      <td>...</td>\n",
       "      <td>1</td>\n",
       "      <td>0</td>\n",
       "      <td>0</td>\n",
       "      <td>0</td>\n",
       "      <td>228.00</td>\n",
       "      <td>228.00</td>\n",
       "      <td>1.0</td>\n",
       "      <td>0.000000</td>\n",
       "      <td>0.0</td>\n",
       "      <td>0</td>\n",
       "    </tr>\n",
       "    <tr>\n",
       "      <th>13416</th>\n",
       "      <td>JMAN_2456281</td>\n",
       "      <td>2023-03-24</td>\n",
       "      <td>1080.00</td>\n",
       "      <td>0</td>\n",
       "      <td>0</td>\n",
       "      <td>0</td>\n",
       "      <td>0</td>\n",
       "      <td>8</td>\n",
       "      <td>0</td>\n",
       "      <td>0</td>\n",
       "      <td>...</td>\n",
       "      <td>0</td>\n",
       "      <td>0</td>\n",
       "      <td>0</td>\n",
       "      <td>0</td>\n",
       "      <td>1080.00</td>\n",
       "      <td>1080.00</td>\n",
       "      <td>10.0</td>\n",
       "      <td>0.000000</td>\n",
       "      <td>0.8</td>\n",
       "      <td>0</td>\n",
       "    </tr>\n",
       "  </tbody>\n",
       "</table>\n",
       "<p>13417 rows × 28 columns</p>\n",
       "</div>"
      ],
      "text/plain": [
       "                  id  score_date  current_arr  team_plus  pro_plus  ent_plus  \\\n",
       "0       JMAN_2429072  2023-02-10      2976.00          1         1         0   \n",
       "1       JMAN_9043466  2023-01-13     20724.72          1         1         1   \n",
       "2       JMAN_2452556  2023-02-24       605.76          1         1         1   \n",
       "3       JMAN_2455113  2023-03-03       300.00          1         0         0   \n",
       "4      JMAN_18127937  2023-02-10      2100.00          1         1         0   \n",
       "...              ...         ...          ...        ...       ...       ...   \n",
       "13412  JMAN_16222667  2023-01-06       504.00          1         0         0   \n",
       "13413   JMAN_2475820  2023-02-10       221.64          1         0         0   \n",
       "13414   JMAN_9014565  2023-03-17       228.00          1         0         0   \n",
       "13415  JMAN_18362858  2023-03-24       228.00          1         0         0   \n",
       "13416   JMAN_2456281  2023-03-24      1080.00          0         0         0   \n",
       "\n",
       "       csat_score  num_low_sev_outages  num_high_sev_outages  \\\n",
       "0             100                    0                     0   \n",
       "1             100                    0                     0   \n",
       "2               0                   15                     1   \n",
       "3               0                    7                     0   \n",
       "4               0                    0                     0   \n",
       "...           ...                  ...                   ...   \n",
       "13412           0                    0                     0   \n",
       "13413           0                   10                     1   \n",
       "13414           0                   10                     0   \n",
       "13415           0                    0                     0   \n",
       "13416           0                    8                     0   \n",
       "\n",
       "       num_tickets_deflected  ...  segment_non_smb  segment_commercial  \\\n",
       "0                         72  ...                0                   0   \n",
       "1                          0  ...                1                   1   \n",
       "2                          0  ...                1                   0   \n",
       "3                          0  ...                1                   0   \n",
       "4                          0  ...                1                   0   \n",
       "...                      ...  ...              ...                 ...   \n",
       "13412                      0  ...                1                   0   \n",
       "13413                      0  ...                1                   0   \n",
       "13414                      0  ...                1                   0   \n",
       "13415                      0  ...                1                   0   \n",
       "13416                      0  ...                0                   0   \n",
       "\n",
       "      segment_enterprise  segment_midmarket  future_arr  current_arr.1  \\\n",
       "0                      0                  0     2976.00        2976.00   \n",
       "1                      0                  0    21474.84       20724.72   \n",
       "2                      0                  0      817.80         605.76   \n",
       "3                      0                  0      300.00         300.00   \n",
       "4                      0                  0      420.00        2100.00   \n",
       "...                  ...                ...         ...            ...   \n",
       "13412                  0                  0      504.00         504.00   \n",
       "13413                  0                  0      231.48         221.64   \n",
       "13414                  0                  0      228.00         228.00   \n",
       "13415                  0                  0      228.00         228.00   \n",
       "13416                  0                  0     1080.00        1080.00   \n",
       "\n",
       "       max_seats  agent_utilization  seat_utilization  churn  \n",
       "0            2.0           0.500000               1.0      0  \n",
       "1            9.0           0.111111               1.0      0  \n",
       "2            1.0           0.000000               1.0      0  \n",
       "3            1.0           0.000000               1.0      0  \n",
       "4            5.0           0.000000               0.0      1  \n",
       "...          ...                ...               ...    ...  \n",
       "13412        3.0           0.000000               0.0      0  \n",
       "13413        1.0           0.000000               1.0      0  \n",
       "13414        1.0           0.000000               1.0      0  \n",
       "13415        1.0           0.000000               0.0      0  \n",
       "13416       10.0           0.000000               0.8      0  \n",
       "\n",
       "[13417 rows x 28 columns]"
      ]
     },
     "execution_count": 37,
     "metadata": {},
     "output_type": "execute_result"
    }
   ],
   "source": [
    "df = pd.read_csv(\"updated_dataset_with_churn.csv\")\n",
    "# lets drop all rows with missing values, we are doing no cleaning here\n",
    "df.fillna(0,inplace=True)\n",
    "df"
   ]
  },
  {
   "cell_type": "code",
   "execution_count": 38,
   "metadata": {},
   "outputs": [
    {
     "data": {
      "text/plain": [
       "id                        object\n",
       "score_date                object\n",
       "current_arr              float64\n",
       "team_plus                  int64\n",
       "pro_plus                   int64\n",
       "ent_plus                   int64\n",
       "csat_score                 int64\n",
       "num_low_sev_outages        int64\n",
       "num_high_sev_outages       int64\n",
       "num_tickets_deflected      int64\n",
       "customer_age_quarters      int64\n",
       "product_counts             int64\n",
       "crm_employee_range        object\n",
       "region_emea                int64\n",
       "region_apac                int64\n",
       "region_amer                int64\n",
       "region_latam               int64\n",
       "segment_smb                int64\n",
       "segment_non_smb            int64\n",
       "segment_commercial         int64\n",
       "segment_enterprise         int64\n",
       "segment_midmarket          int64\n",
       "future_arr               float64\n",
       "current_arr.1            float64\n",
       "max_seats                float64\n",
       "agent_utilization        float64\n",
       "seat_utilization         float64\n",
       "churn                      int64\n",
       "dtype: object"
      ]
     },
     "execution_count": 38,
     "metadata": {},
     "output_type": "execute_result"
    }
   ],
   "source": [
    "df.dtypes"
   ]
  },
  {
   "cell_type": "code",
   "execution_count": 39,
   "metadata": {},
   "outputs": [],
   "source": [
    "df.drop('id', axis=1,inplace=True)\n",
    "df.drop('score_date', axis=1,inplace=True)\n",
    "df.drop('crm_employee_range', axis=1,inplace=True)"
   ]
  },
  {
   "cell_type": "code",
   "execution_count": 41,
   "metadata": {},
   "outputs": [
    {
     "data": {
      "text/plain": [
       "churn\n",
       "0    11246\n",
       "1     2171\n",
       "Name: count, dtype: int64"
      ]
     },
     "execution_count": 41,
     "metadata": {},
     "output_type": "execute_result"
    }
   ],
   "source": [
    "df['churn'].value_counts() # damn imbalanced"
   ]
  },
  {
   "cell_type": "markdown",
   "metadata": {},
   "source": [
    "# Training a default LogReg model"
   ]
  },
  {
   "cell_type": "code",
   "execution_count": 43,
   "metadata": {},
   "outputs": [],
   "source": [
    "X = df.drop('churn', axis=1)\n",
    "y = df['churn']\n",
    "\n",
    "X_train, X_test, y_train, y_test = train_test_split(\n",
    "    X, y,\n",
    "    test_size=0.2,\n",
    "    random_state=42, #used to keep class distribution in train and test sets similar\n",
    ")"
   ]
  },
  {
   "cell_type": "code",
   "execution_count": 44,
   "metadata": {},
   "outputs": [
    {
     "name": "stdout",
     "output_type": "stream",
     "text": [
      "              precision    recall  f1-score   support\n",
      "\n",
      "           0       0.92      0.99      0.95      2265\n",
      "           1       0.89      0.56      0.69       419\n",
      "\n",
      "    accuracy                           0.92      2684\n",
      "   macro avg       0.91      0.77      0.82      2684\n",
      "weighted avg       0.92      0.92      0.91      2684\n",
      "\n",
      "              precision    recall  f1-score   support\n",
      "\n",
      "           0       0.92      0.99      0.95      8981\n",
      "           1       0.92      0.55      0.69      1752\n",
      "\n",
      "    accuracy                           0.92     10733\n",
      "   macro avg       0.92      0.77      0.82     10733\n",
      "weighted avg       0.92      0.92      0.91     10733\n",
      "\n"
     ]
    },
    {
     "name": "stderr",
     "output_type": "stream",
     "text": [
      "c:\\Users\\PaidiVibhavanRao\\AppData\\Local\\Programs\\Python\\Python312\\Lib\\site-packages\\sklearn\\linear_model\\_logistic.py:465: ConvergenceWarning: lbfgs failed to converge (status=1):\n",
      "STOP: TOTAL NO. OF ITERATIONS REACHED LIMIT.\n",
      "\n",
      "Increase the number of iterations (max_iter) or scale the data as shown in:\n",
      "    https://scikit-learn.org/stable/modules/preprocessing.html\n",
      "Please also refer to the documentation for alternative solver options:\n",
      "    https://scikit-learn.org/stable/modules/linear_model.html#logistic-regression\n",
      "  n_iter_i = _check_optimize_result(\n"
     ]
    }
   ],
   "source": [
    "lr = LogisticRegression()\n",
    "lr.fit(X_train, y_train)\n",
    "\n",
    "pred = lr.predict(X_test)\n",
    "pred_train = lr.predict(X_train)\n",
    "\n",
    "print(classification_report(y_test, pred))\n",
    "\n",
    "print(classification_report(y_train, pred_train))"
   ]
  },
  {
   "cell_type": "markdown",
   "metadata": {},
   "source": [
    "# Precision -> TP / (TP + FP)\n",
    "# Recall -> TP / (TP + FN)\n",
    "# weighted_precision = (precision_0 * support_0 + precision_1 * support_1) / total_support"
   ]
  },
  {
   "cell_type": "markdown",
   "metadata": {},
   "source": [
    "## Tuning"
   ]
  },
  {
   "cell_type": "code",
   "execution_count": 45,
   "metadata": {},
   "outputs": [
    {
     "data": {
      "text/plain": [
       "(10733, 24)"
      ]
     },
     "execution_count": 45,
     "metadata": {},
     "output_type": "execute_result"
    }
   ],
   "source": [
    "X_train.shape"
   ]
  },
  {
   "cell_type": "code",
   "execution_count": 46,
   "metadata": {},
   "outputs": [
    {
     "name": "stdout",
     "output_type": "stream",
     "text": [
      "              precision    recall  f1-score   support\n",
      "\n",
      "           0       0.94      0.96      0.95      2265\n",
      "           1       0.77      0.67      0.72       419\n",
      "\n",
      "    accuracy                           0.92      2684\n",
      "   macro avg       0.86      0.81      0.83      2684\n",
      "weighted avg       0.91      0.92      0.91      2684\n",
      "\n",
      "              precision    recall  f1-score   support\n",
      "\n",
      "           0       0.94      0.96      0.95      8981\n",
      "           1       0.78      0.67      0.72      1752\n",
      "\n",
      "    accuracy                           0.91     10733\n",
      "   macro avg       0.86      0.82      0.83     10733\n",
      "weighted avg       0.91      0.91      0.91     10733\n",
      "\n"
     ]
    },
    {
     "name": "stderr",
     "output_type": "stream",
     "text": [
      "c:\\Users\\PaidiVibhavanRao\\AppData\\Local\\Programs\\Python\\Python312\\Lib\\site-packages\\sklearn\\linear_model\\_logistic.py:465: ConvergenceWarning: lbfgs failed to converge (status=1):\n",
      "STOP: TOTAL NO. OF ITERATIONS REACHED LIMIT.\n",
      "\n",
      "Increase the number of iterations (max_iter) or scale the data as shown in:\n",
      "    https://scikit-learn.org/stable/modules/preprocessing.html\n",
      "Please also refer to the documentation for alternative solver options:\n",
      "    https://scikit-learn.org/stable/modules/linear_model.html#logistic-regression\n",
      "  n_iter_i = _check_optimize_result(\n"
     ]
    },
    {
     "data": {
      "text/plain": [
       "array([[ 0.00110098, -0.00448836, -0.00032546, -0.00190058, -0.00100197,\n",
       "        -0.01314831, -0.00103946, -0.02388693, -0.03059686,  0.02945695,\n",
       "        -0.00211969,  0.00798377, -0.00542858,  0.00015033, -0.01021502,\n",
       "         0.01080086,  0.00579275,  0.00231697, -0.00114389, -0.00207869,\n",
       "         0.00110098, -0.13403338, -0.00278069,  0.00262719]])"
      ]
     },
     "execution_count": 46,
     "metadata": {},
     "output_type": "execute_result"
    }
   ],
   "source": [
    "lr = LogisticRegression(\n",
    "    #penalty='l2',\n",
    "    #solver='liblinear',\n",
    "    class_weight='balanced'\n",
    ")\n",
    "lr.fit(X_train, y_train)\n",
    "\n",
    "pred = lr.predict(X_test)\n",
    "pred_train = lr.predict(X_train)\n",
    "\n",
    "print(classification_report(y_test, pred))\n",
    "\n",
    "print(classification_report(y_train, pred_train))\n",
    "\n",
    "lr.coef_"
   ]
  },
  {
   "cell_type": "markdown",
   "metadata": {},
   "source": [
    "## Surely you cannot test every parameter manually right?"
   ]
  },
  {
   "cell_type": "code",
   "execution_count": 47,
   "metadata": {},
   "outputs": [
    {
     "name": "stdout",
     "output_type": "stream",
     "text": [
      "Fitting 5 folds for each of 48 candidates, totalling 240 fits\n",
      "{'C': 0.01, 'class_weight': None, 'max_iter': 500, 'penalty': 'l2', 'solver': 'saga'}\n"
     ]
    },
    {
     "name": "stderr",
     "output_type": "stream",
     "text": [
      "c:\\Users\\PaidiVibhavanRao\\AppData\\Local\\Programs\\Python\\Python312\\Lib\\site-packages\\sklearn\\linear_model\\_sag.py:348: ConvergenceWarning: The max_iter was reached which means the coef_ did not converge\n",
      "  warnings.warn(\n"
     ]
    }
   ],
   "source": [
    "param_grid = {\n",
    "    'C': [0.01, 0.1, 1, 10],\n",
    "    'solver': ['lbfgs', 'saga'],\n",
    "    'penalty': ['l2'],\n",
    "    'max_iter': [100, 200, 500],\n",
    "    'class_weight': [None, 'balanced']\n",
    "}\n",
    "\n",
    "grid = GridSearchCV(estimator=LogisticRegression(), param_grid=param_grid, cv=5, scoring='f1', verbose=1, n_jobs=-1)\n",
    "grid.fit(X_train, y_train)\n",
    "print(grid.best_params_)"
   ]
  },
  {
   "cell_type": "code",
   "execution_count": 48,
   "metadata": {},
   "outputs": [
    {
     "name": "stdout",
     "output_type": "stream",
     "text": [
      "Fitting 3 folds for each of 2 candidates, totalling 6 fits\n"
     ]
    },
    {
     "name": "stderr",
     "output_type": "stream",
     "text": [
      "c:\\Users\\PaidiVibhavanRao\\AppData\\Local\\Programs\\Python\\Python312\\Lib\\site-packages\\sklearn\\linear_model\\_sag.py:348: ConvergenceWarning: The max_iter was reached which means the coef_ did not converge\n",
      "  warnings.warn(\n",
      "c:\\Users\\PaidiVibhavanRao\\AppData\\Local\\Programs\\Python\\Python312\\Lib\\site-packages\\sklearn\\linear_model\\_sag.py:348: ConvergenceWarning: The max_iter was reached which means the coef_ did not converge\n",
      "  warnings.warn(\n",
      "c:\\Users\\PaidiVibhavanRao\\AppData\\Local\\Programs\\Python\\Python312\\Lib\\site-packages\\sklearn\\linear_model\\_sag.py:348: ConvergenceWarning: The max_iter was reached which means the coef_ did not converge\n",
      "  warnings.warn(\n",
      "c:\\Users\\PaidiVibhavanRao\\AppData\\Local\\Programs\\Python\\Python312\\Lib\\site-packages\\sklearn\\linear_model\\_sag.py:348: ConvergenceWarning: The max_iter was reached which means the coef_ did not converge\n",
      "  warnings.warn(\n",
      "c:\\Users\\PaidiVibhavanRao\\AppData\\Local\\Programs\\Python\\Python312\\Lib\\site-packages\\sklearn\\linear_model\\_sag.py:348: ConvergenceWarning: The max_iter was reached which means the coef_ did not converge\n",
      "  warnings.warn(\n",
      "c:\\Users\\PaidiVibhavanRao\\AppData\\Local\\Programs\\Python\\Python312\\Lib\\site-packages\\sklearn\\linear_model\\_sag.py:348: ConvergenceWarning: The max_iter was reached which means the coef_ did not converge\n",
      "  warnings.warn(\n"
     ]
    },
    {
     "name": "stdout",
     "output_type": "stream",
     "text": [
      "{'C': np.float64(3.7554011884736247), 'class_weight': None, 'max_iter': 500, 'penalty': 'l2', 'solver': 'saga'}\n"
     ]
    },
    {
     "name": "stderr",
     "output_type": "stream",
     "text": [
      "c:\\Users\\PaidiVibhavanRao\\AppData\\Local\\Programs\\Python\\Python312\\Lib\\site-packages\\sklearn\\linear_model\\_sag.py:348: ConvergenceWarning: The max_iter was reached which means the coef_ did not converge\n",
      "  warnings.warn(\n"
     ]
    }
   ],
   "source": [
    "from scipy.stats import uniform\n",
    "param_dist = {\n",
    "    'C': uniform(0.01,10),\n",
    "    'solver': ['saga'],\n",
    "    'penalty': ['l2'],\n",
    "    'max_iter': [100, 200, 500],\n",
    "    'class_weight': [None, 'balanced']\n",
    "}\n",
    "\n",
    "stratified_cv = StratifiedKFold(n_splits=3, shuffle=True, random_state=42)\n",
    "\n",
    "random_search = RandomizedSearchCV(estimator=LogisticRegression(), param_distributions=param_dist, \n",
    "                                   n_iter=2, cv=stratified_cv, verbose=1, random_state=42)\n",
    "random_search.fit(X_train, y_train)\n",
    "print(random_search.best_params_)"
   ]
  },
  {
   "cell_type": "code",
   "execution_count": 49,
   "metadata": {},
   "outputs": [
    {
     "data": {
      "text/plain": [
       "{'C': np.float64(3.7554011884736247),\n",
       " 'class_weight': None,\n",
       " 'max_iter': 500,\n",
       " 'penalty': 'l2',\n",
       " 'solver': 'saga'}"
      ]
     },
     "execution_count": 49,
     "metadata": {},
     "output_type": "execute_result"
    }
   ],
   "source": [
    "random_search.best_params_"
   ]
  },
  {
   "cell_type": "code",
   "execution_count": 50,
   "metadata": {},
   "outputs": [
    {
     "name": "stdout",
     "output_type": "stream",
     "text": [
      "              precision    recall  f1-score   support\n",
      "\n",
      "           0       0.92      0.99      0.95      2265\n",
      "           1       0.89      0.56      0.69       419\n",
      "\n",
      "    accuracy                           0.92      2684\n",
      "   macro avg       0.91      0.77      0.82      2684\n",
      "weighted avg       0.92      0.92      0.91      2684\n",
      "\n",
      "              precision    recall  f1-score   support\n",
      "\n",
      "           0       0.92      0.99      0.95      8981\n",
      "           1       0.92      0.55      0.69      1752\n",
      "\n",
      "    accuracy                           0.92     10733\n",
      "   macro avg       0.92      0.77      0.82     10733\n",
      "weighted avg       0.92      0.92      0.91     10733\n",
      "\n"
     ]
    }
   ],
   "source": [
    "lr = LogisticRegression(**{'C': 3.7554011884736247,\n",
    " 'class_weight': None,\n",
    " 'max_iter': 500,\n",
    " 'penalty': 'l2',\n",
    " 'solver': 'liblinear'})\n",
    "lr.fit(X_train, y_train)\n",
    "\n",
    "pred = lr.predict(X_test)\n",
    "pred_train = lr.predict(X_train)\n",
    "\n",
    "print(classification_report(y_test, pred))\n",
    "\n",
    "print(classification_report(y_train, pred_train))"
   ]
  },
  {
   "cell_type": "code",
   "execution_count": 51,
   "metadata": {},
   "outputs": [
    {
     "data": {
      "text/plain": [
       "array([4.50075736, 9.8863495 , 5.03565495, 4.79505241, 0.24318119,\n",
       "       8.33147905, 1.85077239, 3.4931003 , 1.9345901 , 5.83476308])"
      ]
     },
     "execution_count": 51,
     "metadata": {},
     "output_type": "execute_result"
    }
   ],
   "source": [
    "uniform(0.01,10).rvs(10)"
   ]
  },
  {
   "cell_type": "code",
   "execution_count": null,
   "metadata": {},
   "outputs": [],
   "source": []
  }
 ],
 "metadata": {
  "kernelspec": {
   "display_name": "Python 3",
   "language": "python",
   "name": "python3"
  },
  "language_info": {
   "codemirror_mode": {
    "name": "ipython",
    "version": 3
   },
   "file_extension": ".py",
   "mimetype": "text/x-python",
   "name": "python",
   "nbconvert_exporter": "python",
   "pygments_lexer": "ipython3",
   "version": "3.12.9"
  }
 },
 "nbformat": 4,
 "nbformat_minor": 2
}
